{
 "cells": [
  {
   "cell_type": "code",
   "execution_count": null,
   "metadata": {},
   "outputs": [],
   "source": [
    "## Imports\n",
    "import torch\n",
    "import matplotlib.pyplot as plt\n",
    "import numpy as np\n",
    "import pandas as pd\n",
    "from pde import CartesianGrid, solve_laplace_equation\n",
    "\n",
    "# Get cpu or gpu device for training.\n",
    "device = \"cuda\" if torch.cuda.is_available() else \"cpu\"\n",
    "\n",
    "torch.set_default_dtype(torch.float64)\n",
    "torch.manual_seed(13);"
   ]
  },
  {
   "cell_type": "code",
   "execution_count": null,
   "metadata": {},
   "outputs": [],
   "source": [
    "# Sampling parameters etc\n",
    "n_axis = 101\n",
    "n_time = 51\n",
    "\n",
    "axis = torch.linspace(-5,5,n_axis, device=device)\n",
    "time = torch.linspace(0,5,n_time, device=device)\n",
    "Ps = torch.cartesian_prod(axis,time)\n",
    "xx, tt = torch.meshgrid((axis, time), indexing=\"ij\")\n",
    "# Number of points\n",
    "lP = Ps.shape[0]\n",
    "\n",
    "# Get random training sets based on parameters.\n",
    "# This is a mask on the first coordinate of Ps\n",
    "def randomMask(n_pts = 10, initial = False):\n",
    "    mask = torch.zeros(lP).bool()\n",
    "    if not initial:\n",
    "        mask[torch.randperm(lP)[:n_pts]] = True\n",
    "    if initial:\n",
    "        mask[n_time * torch.randperm(n_axis)[:n_pts]] = True\n",
    "    return mask\n",
    "\n",
    "\n",
    "def getVarietyPoints(base):\n",
    "    x= base.unbind(1)\n",
    "    t = torch.sqrt(x.square())\n",
    "\n",
    "    return torch.stack([ torch.stack([x,t],1), torch.stack([x,-t],1) ])\n",
    "\n",
    "def Phi(base, X):\n",
    "    pts = getVarietyPoints(base)\n",
    "    # return (pts.inner(X) * 1.j).exp().mean(0)\n",
    "    return (pts.inner(X)).exp().mean(0)\n"
   ]
  }
 ],
 "metadata": {
  "language_info": {
   "name": "python"
  }
 },
 "nbformat": 4,
 "nbformat_minor": 2
}
